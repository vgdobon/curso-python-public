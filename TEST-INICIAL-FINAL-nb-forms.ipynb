{
  "nbformat": 4,
  "nbformat_minor": 0,
  "metadata": {
    "colab": {
      "name": "2020-11-23-test-final.ipynb",
      "provenance": [],
      "collapsed_sections": []
    },
    "kernelspec": {
      "display_name": "Python 3",
      "name": "python3"
    }
  },
  "cells": [
    {
      "cell_type": "markdown",
      "metadata": {
        "id": "5a_gFGxvpN5R"
      },
      "source": [
        "# Test inicial curso Introducción a la programación con Python"
      ]
    },
    {
      "cell_type": "code",
      "metadata": {
        "id": "8JNPFRy9BBhS",
        "cellView": "form"
      },
      "source": [
        "#@markdown ### Qué experiencia o formación previa a Format:ea tienes?\n",
        "respuesta1 = \"(no rellenar)\" #@param {type:\"string\"}\n",
        "#@markdown ### Cuáles son tus objetivos y expectativas con el programa Format:ea?\n",
        "respuesta2 = \"\" #@param {type:\"string\"}\n",
        "#@markdown ### Qué es una máquina virtual?\n",
        "respuesta3 = \"\" #@param {type:\"string\"}\n",
        "#@markdown ### Qué es una base de datos?\n",
        "respuesta4 = \"\" #@param {type:\"string\"}\n",
        "#@markdown ### Qué lenguajes de programación puedes nombrar (máximo 5)?\n",
        "respuesta5 = \"\" #@param {type:\"string\"}\n",
        "#@markdown ### Qué es HTML? Es un lenguaje de programación?\n",
        "respuesta6 = \"\" #@param {type:\"string\"}\n",
        "#@markdown ### Qué es una variable?\n",
        "respuesta7 = \"\" #@param {type:\"string\"}\n",
        "#@markdown ### Qué es una función?\n",
        "respuesta8 = \"\" #@param {type:\"string\"}\n",
        "#@markdown ### Da un ejemplo de una llamada a una función\n",
        "respuesta9 = \"\" #@param {type:\"string\"}\n",
        "#@markdown ### Da un ejemplo de una expresión aritmética\n",
        "respuesta10 = \"\" #@param {type:\"string\"}\n",
        "#@markdown ### Qué es o para qué sirve un sistema operativo?\n",
        "respuesta11 = \"\" #@param {type:\"string\"}\n",
        "#@markdown ### Qué es un tipo flotante?\n",
        "respuesta12 = \"\" #@param {type:\"string\"}\n",
        "#@markdown ### Qué es un bucle?\n",
        "respuesta13 = \"\" #@param {type:\"string\"}\n",
        "#@markdown ### Qué es un algoritmo?\n",
        "respuesta14 = \"\" #@param {type:\"string\"}\n",
        "#@markdown ### Qué es un giga byte?\n",
        "respuesta15 = \"\" #@param {type:\"string\"}\n",
        "#@markdown ### Qué es un comentario?\n",
        "respuesta16 = \"\" #@param {type:\"string\"}\n",
        "#@markdown ### Cuál crees que es el resultado de esta expresión? 4 * 7 % 3 ** 2\n",
        "respuesta17 = \"\" #@param {type:\"string\"}\n",
        "#@markdown ### Qué significa \"divide y vencerás\" (en programación)?\n",
        "respuesta18 = \"\" #@param {type:\"string\"}\n",
        "#@markdown ### Qué es depurar?\n",
        "respuesta19 = \"\" #@param {type:\"string\"}\n",
        "#@markdown ### Qué son o para qué se usan los atributos? Y los métodos?\n",
        "respuesta20 = \"\" #@param {type:\"string\"}\n",
        "#@markdown ### Qué son o para qué se usan las excepciones?\n",
        "respuesta21 = \"\" #@param {type:\"string\"}\n",
        "#@markdown ### Qué es la recursión?\n",
        "respuesta22 = \"\" #@param {type:\"string\"}\n",
        "#@markdown ### Qué es una palabra clave?\n",
        "respuesta23 = \"\" #@param {type:\"string\"}\n",
        "#@markdown ### Qué es una estructura de datos?\n",
        "respuesta24 = \"\" #@param {type:\"string\"}\n",
        "#@markdown ### Quién es Guido van Rossum?\n",
        "respuesta25 = \"\" #@param {type:\"string\"}\n",
        "#@markdown ### Qué es o para qué se usa un diccionario (o pon un ejemplo)?\n",
        "respuesta26 = \"\" #@param {type:\"string\"}\n",
        "#@markdown ### Qué es la eficiencia o por qué es importante?\n",
        "respuesta27 = \"\" #@param {type:\"string\"}\n",
        "#@markdown ### Qué es la concurrencia?\n",
        "respuesta28 = \"\" #@param {type:\"string\"}"
      ],
      "execution_count": null,
      "outputs": []
    },
    {
      "cell_type": "markdown",
      "metadata": {
        "id": "hVEG5D5TxFKW"
      },
      "source": [
        "Note:\n",
        "\n",
        "You can change the view of the form by selecting **Edit → Show/hide code** or using the toolbar above the selected code cell. You can see both code and the form, just the form, or just the code."
      ]
    }
  ]
}
